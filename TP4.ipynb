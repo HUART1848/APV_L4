{
 "cells": [
  {
   "cell_type": "markdown",
   "id": "1e8d791f",
   "metadata": {},
   "source": [
    "# Travail Pratique 4"
   ]
  },
  {
   "cell_type": "markdown",
   "id": "b7ca52f5",
   "metadata": {},
   "source": [
    "<div class=\"alert alert-block alert-success\">\n",
    "<b>Informations générales </b>\n",
    "</div>\n",
    "\n",
    "**Professeur**: Stephan Robert\n",
    "\n",
    "**Assistant(s)**: Félicien Hêche\n",
    "\n",
    "**Contact**: stephan.o.robert@gmail.com, felicien.heche@gmail.com ou via Teams\n",
    "\n",
    "**Rendu**:\n",
    "\n",
    "- Modalité: Travail individuel. Une fois complétées, copiez les réponses dans le ficher \"**TP4_APV_S1-2023_Nom_Prenom.*****\" (*** = ce que vous voulez qui soit lisible pour nous: .pdf, .html, ...) en remplaçant Nom et Prénom par les votres puis uploader votre fichier sur Cyberlearn.\n",
    "- Note: Ce TP est noté sur 6, pour un poids de x%\n",
    "\n",
    "**Étudiant**:\n",
    "\n",
    "- Prénom Nom\n",
    "\n",
    "<div class=\"alert alert-block alert-success\">\n",
    "\n",
    "<b>But du TP </b>\n",
    "</div>\n",
    "\n",
    "Le but de travail pratique est de montrer comment il est possible de générer des variables aléatoires en partant d'une variable aléatoire uniforme sur $[0, 1]$.\n",
    "\n",
    "\n",
    "<!---\n",
    "<div class=\"alert alert-block alert-info\">\n",
    "<b>Rappel </b>\n",
    "</div>\n",
    "-->\n",
    "\n",
    "<div class=\"alert alert-block alert-success\">\n",
    "<b>Table des matières </b>\n",
    "</div>\n",
    "\n",
    "Exercice 1\n",
    ">* Loi uniforme\n",
    "\n",
    "Exercice 2\n",
    ">* Loi exponentielle\n",
    ">* Loi de Cauchy\n",
    "\n",
    "Exercice 3\n",
    ">* Première méthode\n",
    ">* Seconde méthode\n",
    ">* Troisième méthode\n",
    ">* Quatrième méthode\n",
    ">* Comparaison du temps de calculs\n",
    "\n",
    "Exercice 4\n",
    ">* Loi Normale\n",
    "\n",
    "Exercice 5\n",
    ">* Approximation de la loi de Poisson par une loi binomiale\n",
    "\n",
    "Exercice 6\n",
    ">* Méthode de Monte Carlo\n",
    "\n",
    "\n",
    "\n"
   ]
  },
  {
   "cell_type": "markdown",
   "id": "daf7f26e",
   "metadata": {},
   "source": [
    "## Exercice 1"
   ]
  },
  {
   "cell_type": "markdown",
   "id": "9d688068",
   "metadata": {},
   "source": [
    "Pour commencer, et comme d'habitude, commençons par importer quelques packages."
   ]
  },
  {
   "cell_type": "code",
   "execution_count": 1,
   "id": "ecf55954",
   "metadata": {},
   "outputs": [],
   "source": [
    "import numpy as np\n",
    "import math\n",
    "import matplotlib as mpl\n",
    "import pandas\n",
    "import matplotlib.pyplot as plt\n",
    "from matplotlib import rc\n",
    "from time import time\n",
    "from scipy.stats import gaussian_kde"
   ]
  },
  {
   "cell_type": "markdown",
   "id": "a6be0c97",
   "metadata": {},
   "source": [
    "Pour simuler une suite de variables aléatoires indépendantes et uniformes sur $[0, 1]$, Python génére des entiers alétoires indépendants uniformes dans un ensemble $E = \\{1, 2, \\ldots \\}$ puis les divise par $M$."
   ]
  },
  {
   "cell_type": "markdown",
   "id": "8fd3e59e",
   "metadata": {},
   "source": [
    "Pour faire cela, Python génère une suite de nombres pseudo-aléatoires en partant d'un état $x_{0}$ (la graine ou 'seed') et applique successivement une même fonction $f \\text{ : } E \\rightarrow E$. Typiquement, $f$ est de la forme $f(x) = ax + c$ modulo $M$ avec $a$ et $c$ bien choisis. Evidemment, ce processus, doit vérifier certaines propriétés afin d'être sûr que la suite générée \"ressemble\" à une suite de variables aléatoires uniformes et indépendantes sur $E$."
   ]
  },
  {
   "cell_type": "markdown",
   "id": "887a86e8",
   "metadata": {},
   "source": [
    "Dans ce travail pratique, nous allons donc supposer que nous avons à dispostion une \"boîte noire\" qui permet de simuler une suite de variables aléatoires indépendantes uniformes sur $[0, 1]$. Le code ci-dessous montre comment nous pouvons générer une telle suite de variables aléatoires. Remarquons qu'il est également possible de choisir la graine utilisée par Python. Cela peut être utile afin de garantir la reproductibilité de certains travaux scientifiques par exemple. "
   ]
  },
  {
   "cell_type": "code",
   "execution_count": 2,
   "id": "cb9d2565",
   "metadata": {},
   "outputs": [
    {
     "name": "stdout",
     "output_type": "stream",
     "text": [
      "########################################\n",
      "Before fixing the seed, we obtain\n",
      "########################################\n",
      "0.25309948344791433\n",
      "0.17078686101674823\n",
      "########################################\n",
      "After fixing the seed, we obtain\n",
      "########################################\n",
      "0.417022004702574\n",
      "0.7203244934421581\n",
      "0.417022004702574\n",
      "0.7203244934421581\n"
     ]
    }
   ],
   "source": [
    "print('#'*40)\n",
    "print('Before fixing the seed, we obtain')\n",
    "print('#'*40)\n",
    "print(np.random.rand())\n",
    "print(np.random.rand())\n",
    "\n",
    "\n",
    "print('#'*40)\n",
    "print('After fixing the seed, we obtain')\n",
    "print('#'*40)\n",
    "\n",
    "np.random.seed(seed=1)\n",
    "print(np.random.rand())\n",
    "print(np.random.rand())\n",
    "\n",
    "np.random.seed(seed=1)\n",
    "print(np.random.rand())\n",
    "print(np.random.rand())\n"
   ]
  },
  {
   "cell_type": "markdown",
   "id": "f0463411",
   "metadata": {},
   "source": [
    "### 1.1 Loi uniforme"
   ]
  },
  {
   "cell_type": "markdown",
   "id": "796edb96",
   "metadata": {},
   "source": [
    "Soient $a, b \\in \\mathbb{R}$ avec $a < b$ et $U$ une variable aléatoire uniforme sur $[0, 1]$. Il est possible de montrer que $a + (b- a)U$ suit une loi uniforme sur $[a, b]$. "
   ]
  },
  {
   "cell_type": "markdown",
   "id": "7984bb1e",
   "metadata": {},
   "source": [
    "En utilisant le générateur aléatoire décrit ci-dessus, simulez une variable aléatoire uniforme sur $[a, b]$"
   ]
  },
  {
   "cell_type": "code",
   "execution_count": 3,
   "id": "d4bce13f",
   "metadata": {},
   "outputs": [],
   "source": [
    "def va_uniform(a, b):\n",
    "    \"\"\"\n",
    "    Simule une variable aléatoire sur [a, b]\n",
    "    \n",
    "    Return: un nombre choisi aléatoirement uniformément entre a et b\n",
    "    \"\"\"\n",
    "    # TODO: implement this function"
   ]
  },
  {
   "cell_type": "markdown",
   "id": "8a288bed",
   "metadata": {},
   "source": [
    "Pour vérifier que l'implémentation de la variable aléatoire a le comportement souhaité, nous pouvons générer un grand nombre de donné en utilisant notre fonction et tracer le l'histogramme obtenu."
   ]
  },
  {
   "cell_type": "code",
   "execution_count": null,
   "id": "8f4261d6",
   "metadata": {},
   "outputs": [],
   "source": [
    "n_data = 100000\n",
    "a = 3\n",
    "b = 10\n",
    "# TODO: plot the empirical density of 'n_data' point generated using the function 'va_uniform'"
   ]
  },
  {
   "cell_type": "markdown",
   "id": "303a81aa",
   "metadata": {},
   "source": [
    "## Exercice 2 "
   ]
  },
  {
   "cell_type": "markdown",
   "id": "72ece5e8",
   "metadata": {},
   "source": [
    "Plus généralement, il est possible d'utiliser une méthode suivante pour générer une variable aléatoire. \n",
    "\n",
    "Supposons que $X$ est une variable aléatoire réelle et que sa fonction de répartiont $F$ est strictement croissante. Alors en notant $U$ la loi uniforme sur $[0, 1]$, on obtient que $F^{-1}(U)$ suit la même loi que $X$."
   ]
  },
  {
   "cell_type": "markdown",
   "id": "2519ca77",
   "metadata": {},
   "source": [
    "### 2.1 Loi exponentielle"
   ]
  },
  {
   "cell_type": "markdown",
   "id": "16bc884f",
   "metadata": {},
   "source": [
    "En utilisant la méthode de simulation par inversion de la fonction de répartion comme décrite ci-dessus, simulez une variable aléatoire exponentielle."
   ]
  },
  {
   "cell_type": "markdown",
   "id": "4918869c",
   "metadata": {},
   "source": [
    "Rappelons que la loi exponentielle de paramètre $\\lambda > 0$ a pour fonction de densité $\\lambda e^{- \\lambda x}$ pour $x > 0$ et zéro sinon. La fonction de répartion de la loi exponentielle est donnée par $(1 - e^{- \\lambda x})$ pour $x > 0$ et $0$ sinon."
   ]
  },
  {
   "cell_type": "code",
   "execution_count": 5,
   "id": "f3248640",
   "metadata": {},
   "outputs": [],
   "source": [
    "# TODO: Vérifier que la fonction de répartition est bien croissante et calculer F^{-1}."
   ]
  },
  {
   "cell_type": "code",
   "execution_count": 6,
   "id": "cf9367cf",
   "metadata": {},
   "outputs": [],
   "source": [
    "def va_exponentielle(lamb):\n",
    "    \"\"\"\n",
    "    Simule une variable aléatoire exponentielle de paramètre lamb.\n",
    "    \"\"\"\n",
    "    # TODO: implement this function"
   ]
  },
  {
   "cell_type": "markdown",
   "id": "df8105c6",
   "metadata": {},
   "source": [
    "Evidemment, il est toujours utile de vérifier si notre générateur créé des données qui semble correcte."
   ]
  },
  {
   "cell_type": "code",
   "execution_count": null,
   "id": "2e409f1c",
   "metadata": {},
   "outputs": [],
   "source": [
    "n_data = 10000\n",
    "lamb = 0.5\n",
    "# TODO: plot the empirical density of 'n_data' point generated using the function 'va_exponentielle'"
   ]
  },
  {
   "cell_type": "markdown",
   "id": "fb71c224",
   "metadata": {},
   "source": [
    "### 2.2 Loi de Cauchy"
   ]
  },
  {
   "cell_type": "markdown",
   "id": "954f4ec7",
   "metadata": {},
   "source": [
    "En utilisant la méthode de simulation par inversion de la fonction de répartition, simulez une variable aléatoire de Cauchy."
   ]
  },
  {
   "cell_type": "markdown",
   "id": "6eb936da",
   "metadata": {},
   "source": [
    "Rappelons que la loi de Cauchy admet comme fonction de densité\n",
    "$$\n",
    "\\frac{1}{\\pi (1 + x^{2})}\n",
    "$$\n",
    "et a pour fonction de répartition\n",
    "$$\n",
    "\\frac{arctan(x) + \\pi/2}{\\pi}\n",
    "$$"
   ]
  },
  {
   "cell_type": "code",
   "execution_count": 8,
   "id": "e221cc86",
   "metadata": {},
   "outputs": [],
   "source": [
    "# TODO: vérifier que la fonction de répartion est bien croissante et calculer F^{-1}"
   ]
  },
  {
   "cell_type": "code",
   "execution_count": 9,
   "id": "8b38b023",
   "metadata": {},
   "outputs": [],
   "source": [
    "def va_cauchy():\n",
    "    \"\"\"\n",
    "    Simule variable aléatoire de Cauchy\n",
    "    \"\"\"\n",
    "    # TODO: implement this function"
   ]
  },
  {
   "cell_type": "code",
   "execution_count": null,
   "id": "12cabcdc",
   "metadata": {},
   "outputs": [],
   "source": [
    "#  TODO: plot the empirical density of points generated using the function 'va_exponentielle'"
   ]
  },
  {
   "cell_type": "markdown",
   "id": "0431426d",
   "metadata": {},
   "source": [
    "## Exercice 3"
   ]
  },
  {
   "cell_type": "markdown",
   "id": "d8cf5aff",
   "metadata": {},
   "source": [
    "Dans cet exercice, nous allons comparer plusieurs manières de simuler une variable géométrique de paramètre $p \\in (0, 1)$ en partant d'une variable aléatoire uniforme sur $[0, 1]$"
   ]
  },
  {
   "cell_type": "markdown",
   "id": "09944ea7",
   "metadata": {},
   "source": [
    "### 3.1 Première méthode"
   ]
  },
  {
   "cell_type": "markdown",
   "id": "d603c68e",
   "metadata": {},
   "source": [
    "Pour simuler une variable aléatoire $X$ à valeurs entière telle que $P(X= i) = p_{i}$ pour tout $i \\geq 0$, on tire une variable uniforme $U$ sur $[0, 1]$ et on renvoie l'entier $k$ tel que \n",
    "$$\n",
    "p_{0} + p_{1} + \\ldots + p_{k-1} < U < p_{0} + p_{1} +  \\ldots p_{k}\n",
    "$$"
   ]
  },
  {
   "cell_type": "code",
   "execution_count": 11,
   "id": "06d3d0da",
   "metadata": {},
   "outputs": [],
   "source": [
    "def geom_methode_1(p):\n",
    "    \"\"\"\n",
    "    Simule une variable alétoire Géométrique en utilisant la méthode décrite ci-dessus.\n",
    "    \"\"\"\n",
    "    # TODO: implement this function"
   ]
  },
  {
   "cell_type": "code",
   "execution_count": null,
   "id": "f7915adf",
   "metadata": {},
   "outputs": [],
   "source": [
    "n_data = 100000\n",
    "p=0.2\n",
    "# TODO: plot the empirical density of n_datat points generated using the function 'geom_methode_1'"
   ]
  },
  {
   "cell_type": "markdown",
   "id": "54d618b5",
   "metadata": {},
   "source": [
    "### 3.2 Deuxième méthode"
   ]
  },
  {
   "cell_type": "markdown",
   "id": "3cba2dd0",
   "metadata": {},
   "source": [
    "La deuxième méthode consiste à tirer des variables aléatoires de Bernoulli de paramètre $p$  et de s'arrêter la première fois qu'on tombe sur $1$."
   ]
  },
  {
   "cell_type": "code",
   "execution_count": 13,
   "id": "9c9b2cc8",
   "metadata": {},
   "outputs": [],
   "source": [
    "def bernoulli(p):\n",
    "    \"\"\"\n",
    "    Generate a random variable which follows a Bernoulli distribution.\n",
    "    \n",
    "    Specifically, we generate a random number between 0 and 1. If this number is smaller than 'p' the probabilit given in input,\n",
    "    we return 1. Otherwise, we return 0.\n",
    "    \"\"\"\n",
    "    # TODO: implement this function"
   ]
  },
  {
   "cell_type": "code",
   "execution_count": 14,
   "id": "8bf8f2d3",
   "metadata": {},
   "outputs": [],
   "source": [
    "def geom_methode_2(p):\n",
    "    \"\"\"\n",
    "    Simule une variable alétoire Géométrique en utilisant la deuxième méthode décrite ci-dessus.\n",
    "    \"\"\"\n",
    "    # TODO: implement this function"
   ]
  },
  {
   "cell_type": "code",
   "execution_count": null,
   "id": "111ab81a",
   "metadata": {},
   "outputs": [],
   "source": [
    "n_data = 100000\n",
    "p=0.2\n",
    "# TODO: plot the empirical density of n_datat points generated using the function 'geom_methode_2'"
   ]
  },
  {
   "cell_type": "markdown",
   "id": "b2a0942b",
   "metadata": {},
   "source": [
    "### 3.3 Troisième méthode"
   ]
  },
  {
   "cell_type": "markdown",
   "id": "72806d6c",
   "metadata": {},
   "source": [
    "La troisième méthode consiste à poser $\\lambda = - \\frac{1}{ln(1-p)}$ et de renvoyer $\\lceil \\lambda X \\rceil$ où $X$ est une variable aléatoire exponentielle de paramètre $1$."
   ]
  },
  {
   "cell_type": "markdown",
   "id": "f63d996e",
   "metadata": {},
   "source": [
    "Rappelons que $\\lceil x \\rceil $ est le plus petit entier $k$ tel que $k \\geq x$."
   ]
  },
  {
   "cell_type": "code",
   "execution_count": 16,
   "id": "49d05342",
   "metadata": {},
   "outputs": [],
   "source": [
    "def geom_methode_3(p):\n",
    "    \"\"\"\n",
    "    Simule une variable alétoire Géométrique en utilisant la troisième méthode décrite ci-dessus.\n",
    "    \"\"\"\n",
    "    # TODO: implement this function"
   ]
  },
  {
   "cell_type": "code",
   "execution_count": null,
   "id": "64702f77",
   "metadata": {},
   "outputs": [],
   "source": [
    "n_data = 100000\n",
    "p=0.2\n",
    "# TODO: plot the empirical density of n_datat points generated using the function 'geom_methode_3'"
   ]
  },
  {
   "cell_type": "markdown",
   "id": "1868a76a",
   "metadata": {},
   "source": [
    "### 3.4 Quatrième méthode"
   ]
  },
  {
   "cell_type": "markdown",
   "id": "6da68ab9",
   "metadata": {},
   "source": [
    "La dernière méthode consiste tout simplement à utiliser une fonction de numpy."
   ]
  },
  {
   "cell_type": "code",
   "execution_count": 18,
   "id": "cb0f7e7d",
   "metadata": {},
   "outputs": [],
   "source": [
    "def geom_methode_4(p):\n",
    "    \"\"\"\n",
    "    Simule une variable alétoire Géométrique en utilisant numpy.\n",
    "    \"\"\"\n",
    "    # TODO: implement this function"
   ]
  },
  {
   "cell_type": "code",
   "execution_count": null,
   "id": "8efe7cf2",
   "metadata": {},
   "outputs": [],
   "source": [
    "n_data = 100000\n",
    "p=0.2\n",
    "# TODO: plot the empirical density of n_datat points generated using the function 'geom_methode_4'"
   ]
  },
  {
   "cell_type": "markdown",
   "id": "b767e494",
   "metadata": {},
   "source": [
    "### 3.4 Comparaison du temps de calculs"
   ]
  },
  {
   "cell_type": "markdown",
   "id": "d8ba8fd7",
   "metadata": {},
   "source": [
    "Pour finir cet exercice, nous allons mesurer le temps qu'il est nécessaire pour générer $10000$ fois la v.a. géométrique en utilisant les différentes méthodes implémentées ci-dessus."
   ]
  },
  {
   "cell_type": "code",
   "execution_count": 22,
   "id": "7245dbf9",
   "metadata": {},
   "outputs": [],
   "source": [
    "p = 0.1\n",
    "N = 500000   # Change this value so that the computations takes a few seconds on your machine"
   ]
  },
  {
   "cell_type": "code",
   "execution_count": null,
   "id": "0396b639",
   "metadata": {},
   "outputs": [],
   "source": [
    "# TODO: compute the time needed to generate N sample using the function geom_methode_1 of parameter p"
   ]
  },
  {
   "cell_type": "code",
   "execution_count": null,
   "id": "4fd5c444",
   "metadata": {},
   "outputs": [],
   "source": [
    "# TODO: compute the time needed to generate N sample using the function geom_methode_2 of parameter p"
   ]
  },
  {
   "cell_type": "code",
   "execution_count": null,
   "id": "55962cd9",
   "metadata": {},
   "outputs": [],
   "source": [
    "# TODO: compute the time needed to generate N sample using the function geom_methode_3 of parameter p"
   ]
  },
  {
   "cell_type": "code",
   "execution_count": null,
   "id": "cefcdffb",
   "metadata": {},
   "outputs": [],
   "source": [
    "# TODO: compute the time needed to generate N sample using the function geom_methode_4 of parameter p"
   ]
  },
  {
   "cell_type": "markdown",
   "id": "316ceef0",
   "metadata": {},
   "source": [
    "## Exercice 4"
   ]
  },
  {
   "cell_type": "markdown",
   "id": "092915a1",
   "metadata": {},
   "source": [
    "### 4.1 Loi Normale"
   ]
  },
  {
   "cell_type": "markdown",
   "id": "fa0e49b9",
   "metadata": {},
   "source": [
    "La méthode de la fonction de répartition inverse ne s'applique pas facilement à la loi normale car sa fonction de répartition et son inverse n'ont pas d'expression analytique simple et efficacement calculable."
   ]
  },
  {
   "cell_type": "markdown",
   "id": "5498ea8c",
   "metadata": {},
   "source": [
    "Pour simuler des variables aléatoires qui suivent une loi normale, nous utilisons alors une autre méthode appelée méthode de Box-Miller. Si $U_{1}, U_{2}$ sont deux lois uniforme sur l'intervalle $[0, 1]$ alors il est possible de montrer que\n",
    "$$\n",
    "X_{1} := \\sqrt{-2 ln(U_{1})} sin(2 \\pi U_{1}) \\sim \\mathcal{N}(0, 1) \\\\\n",
    "X_{2} := \\sqrt{-2 ln(U_{2})} cos(2 \\pi U_{2}) \\sim \\mathcal{N}(0, 1) \n",
    "$$"
   ]
  },
  {
   "cell_type": "markdown",
   "id": "3d7948e0",
   "metadata": {},
   "source": [
    "Ensuite pour obtenir une distribution $Y \\sim \\mathcal{N}(\\mu, \\sigma^{2})$, il suffit de se souvenir que si $X \\sim \\mathcal{N}(0, 1)$ alors $Y = \\mu + \\sigma X \\sim \\mathcal{N}(\\mu, \\sigma^{2})$."
   ]
  },
  {
   "cell_type": "code",
   "execution_count": 27,
   "id": "69ae0daf",
   "metadata": {},
   "outputs": [],
   "source": [
    "def our_gaussienne():\n",
    "    \"\"\"\n",
    "    Simule et retourne deux lois standard normale (i.e. N(0, 1)) en utilisant la méthode de Box-Miller.\n",
    "    \"\"\"\n",
    "    # TODO: implement this function"
   ]
  },
  {
   "cell_type": "markdown",
   "id": "73a9452c",
   "metadata": {},
   "source": [
    "Nous allons ensuite comparer notre fonction 'our_gaussienne' avec un générateur de v.a. normale produite par numpy."
   ]
  },
  {
   "cell_type": "code",
   "execution_count": 28,
   "id": "befcb791",
   "metadata": {},
   "outputs": [],
   "source": [
    "def official_gaussienne():\n",
    "    \"\"\"\n",
    "    Simule et retourne deux lois normal en utilisant numpy.\n",
    "    \"\"\"\n",
    "    # TODO: implement this function"
   ]
  },
  {
   "cell_type": "markdown",
   "id": "55a03679",
   "metadata": {},
   "source": [
    "Ensuite, nous allons générer des données et utilisant 'our_gaussienne' et 'official_gaussienne' et comparer leur distribution empririque."
   ]
  },
  {
   "cell_type": "code",
   "execution_count": 29,
   "id": "77c6e520",
   "metadata": {},
   "outputs": [],
   "source": [
    "N = 5000\n",
    "our_generated_gaussienne = np.stack([our_gaussienne() for _ in range(N)])\n",
    "official_gaussienne = np.stack([official_gaussienne() for _ in range(N)])"
   ]
  },
  {
   "cell_type": "code",
   "execution_count": 30,
   "id": "73146deb",
   "metadata": {},
   "outputs": [
    {
     "data": {
      "image/png": "[encoded data removed]",
      "text/plain": [
       "<Figure size 432x288 with 2 Axes>"
      ]
     },
     "metadata": {
      "needs_background": "light"
     },
     "output_type": "display_data"
    },
    {
     "data": {
      "image/png": "[encoded data removed]",
      "text/plain": [
       "<Figure size 432x288 with 2 Axes>"
      ]
     },
     "metadata": {
      "needs_background": "light"
     },
     "output_type": "display_data"
    }
   ],
   "source": [
    "# TODO: plot the emprical density of our_generated_gaussienne and official_gaussienne\n",
    "# np.meshgrid and the function 'gaussian_kde' from scipy.stats might be useful.\n"
   ]
  },
  {
   "cell_type": "markdown",
   "id": "fae2fa1e",
   "metadata": {},
   "source": [
    "## Exercice 5"
   ]
  },
  {
   "cell_type": "markdown",
   "id": "9f42ab8f",
   "metadata": {},
   "source": [
    "### 5.1 Approximation de la loi de Poisson par une loi binomiale"
   ]
  },
  {
   "cell_type": "markdown",
   "id": "b20aedc9",
   "metadata": {},
   "source": [
    "On peut montrer que si $\\lambda > 0$ et $X_{n}$ est une variable aléatoire binomiale de paramètre $(n, \\lambda/n)$, alors $X_{n}$ converge en loi vers une loi de Poisson de paramètre $\\lambda$ lorsque $n \\rightarrow \\infty$."
   ]
  },
  {
   "cell_type": "markdown",
   "id": "8df6cce8",
   "metadata": {},
   "source": [
    "En d'autres terme, pour tout $k \\geq 0$, $P(X_{n} = k) \\rightarrow e^{-\\lambda} \\lambda^{k}/k!$ pour $n \\rightarrow \\infty$."
   ]
  },
  {
   "cell_type": "markdown",
   "id": "ef7828a5",
   "metadata": {},
   "source": [
    "Illustrer graphiquement le résultat présenté ci-dessus."
   ]
  },
  {
   "cell_type": "code",
   "execution_count": 56,
   "id": "3d9666a3",
   "metadata": {},
   "outputs": [],
   "source": [
    "param = 3\n",
    "n = 100\n",
    "N = 5000"
   ]
  },
  {
   "cell_type": "code",
   "execution_count": null,
   "id": "61b5ba64",
   "metadata": {},
   "outputs": [],
   "source": [
    "# TODO: generate N samples which follows a binomiale law of parameter (n, param/n) and N sample that follow a Poison\n",
    "# distribution of paramter 'param'\n",
    "# Here, you can use function provided by numpy."
   ]
  },
  {
   "cell_type": "code",
   "execution_count": null,
   "id": "67cff65b",
   "metadata": {},
   "outputs": [],
   "source": [
    "# TODO: plot the empirical density of the two datasets generated above"
   ]
  },
  {
   "cell_type": "markdown",
   "id": "77d03a99",
   "metadata": {},
   "source": [
    "## Exercice 6"
   ]
  },
  {
   "cell_type": "markdown",
   "id": "c3009d45",
   "metadata": {},
   "source": [
    "### 6.1 Méthode de Monte Carlo"
   ]
  },
  {
   "cell_type": "markdown",
   "id": "b880695c",
   "metadata": {},
   "source": [
    "Considérons un couple $(X, Y)$ de variables aléatoires indépendantes telles que chacune soit uniforme sur $[0, 1]$. Soit $(X_{i}, Y_{i})$ une suite de vecteurs aléatoires indépendants et de même loi que $(X, Y)$.\n",
    "\n",
    "On admet que $P(X^{2} + Y^{2} \\leq 1) = \\pi$. Intuitivement, cela fait sens: $(X, Y)$ représente un point uniforme dans le carré $[0, 1]^{2}$ et la probabilité qu'il appartienne à un quart de disque centré en $(0, 0)$ est l'aire de ce quart de disque, ce qui correspond donc à une probabilité de $\\pi/4$.\n",
    "\n",
    "Introduisons maintenant une v.a. $Z_{i}$ qui prend comme valeur $1$ si $X_{i}^{2} + Y_{i}^{2} \\leq 1$ et $0$ sinon. Ainsi, les $(Z_{i})$ sont des variables aléatoires indépendantes de Bernoulli de paramètre $\\pi/4$."
   ]
  },
  {
   "cell_type": "markdown",
   "id": "5707919b",
   "metadata": {},
   "source": [
    "Posons maintenant\n",
    "$$\n",
    "S_{n} := \\frac{4}{n} \\sum_{i=0}^{n} Z_{i}\n",
    "$$\n",
    "D'après la loi forte des grands nombres $S_{n}$ converge presque sûrement vers $\\pi$"
   ]
  },
  {
   "cell_type": "markdown",
   "id": "461293ba",
   "metadata": {},
   "source": [
    "Nous souhaitons maintenant construire un intervalle de confiance sur la valeur de $\\pi$. Pour faire cela, remarquons que\n",
    "$$\n",
    "\\mathbb{E}[S_{n}] = \\pi\n",
    "$$\n",
    "et en se rappelant que $x(1-x) \\leq 1/4$ sur $[0, 1]$, on trouve encore que\n",
    "$$\n",
    "Var(S_{n}) = \\frac{16}{n^{2}} \\sum_{i=0}^{n} Var(Z_{i}) = \\frac{16}{n} \\frac{\\pi}{4} (1 - \\frac{\\pi}{4}) \\leq \\frac{4}{n}\n",
    "$$"
   ]
  },
  {
   "cell_type": "markdown",
   "id": "afaa6a20",
   "metadata": {},
   "source": [
    "Finalement, en utilisant l'inégalité de Bienaymé-Tchebychev, on obtient\n",
    "$$\n",
    "P[ |S_{n} - \\pi| \\geq \\alpha] \\leq \\frac{4}{\\alpha^{2}n}\n",
    "$$"
   ]
  },
  {
   "cell_type": "markdown",
   "id": "7082fe7a",
   "metadata": {},
   "source": [
    "Utiliser les résultats présentés ci-dessus afin de calculer un intervalle de confiance de $\\pi$ d'amplitude au plus $10^{-2}$ avec une probabilité de $99\\%$."
   ]
  },
  {
   "cell_type": "code",
   "execution_count": null,
   "id": "69beeab7",
   "metadata": {},
   "outputs": [],
   "source": [
    "# TODO: compute the minimum 'n' we should consider"
   ]
  },
  {
   "cell_type": "code",
   "execution_count": 62,
   "id": "75bf249f",
   "metadata": {},
   "outputs": [],
   "source": [
    "# TODO: compute the interval"
   ]
  },
  {
   "cell_type": "markdown",
   "id": "dd7c26e4",
   "metadata": {},
   "source": [
    "## Référence"
   ]
  },
  {
   "cell_type": "markdown",
   "id": "e8652dde",
   "metadata": {},
   "source": [
    "Ce TP est tiré/adapté d’un ”TP Python” de Igor Kortchemski, Ecole Polytechnique,\n",
    "Probabilités Approfondies, CPES2"
   ]
  }
 ],
 "metadata": {
  "kernelspec": {
   "display_name": "Python 3 (ipykernel)",
   "language": "python",
   "name": "python3"
  },
  "language_info": {
   "codemirror_mode": {
    "name": "ipython",
    "version": 3
   },
   "file_extension": ".py",
   "mimetype": "text/x-python",
   "name": "python",
   "nbconvert_exporter": "python",
   "pygments_lexer": "ipython3",
   "version": "3.9.12"
  }
 },
 "nbformat": 4,
 "nbformat_minor": 5
}
